{
 "cells": [
  {
   "cell_type": "code",
   "execution_count": 1,
   "metadata": {},
   "outputs": [],
   "source": [
    "import pandas as pd\n",
    "import os"
   ]
  },
  {
   "cell_type": "code",
   "execution_count": 2,
   "metadata": {},
   "outputs": [
    {
     "name": "stdout",
     "output_type": "stream",
     "text": [
      "<class 'pandas.core.frame.DataFrame'>\n",
      "RangeIndex: 3333 entries, 0 to 3332\n",
      "Data columns (total 21 columns):\n",
      "Account_Length    3333 non-null int64\n",
      "Vmail_Message     3333 non-null int64\n",
      "Day_Mins          3333 non-null float64\n",
      "Eve_Mins          3333 non-null float64\n",
      "Night_Mins        3333 non-null float64\n",
      "Intl_Mins         3333 non-null float64\n",
      "CustServ_Calls    3333 non-null int64\n",
      "Churn             3333 non-null object\n",
      "Intl_Plan         3333 non-null object\n",
      "Vmail_Plan        3333 non-null object\n",
      "Day_Calls         3333 non-null int64\n",
      "Day_Charge        3333 non-null float64\n",
      "Eve_Calls         3333 non-null int64\n",
      "Eve_Charge        3333 non-null float64\n",
      "Night_Calls       3333 non-null int64\n",
      "Night_Charge      3333 non-null float64\n",
      "Intl_Calls        3333 non-null int64\n",
      "Intl_Charge       3333 non-null float64\n",
      "State             3333 non-null object\n",
      "Area_Code         3333 non-null int64\n",
      "Phone             3333 non-null object\n",
      "dtypes: float64(8), int64(8), object(5)\n",
      "memory usage: 546.9+ KB\n"
     ]
    }
   ],
   "source": [
    "telco = pd.read_csv('data/Churn.csv')\n",
    "telco.info()"
   ]
  },
  {
   "cell_type": "code",
   "execution_count": 3,
   "metadata": {},
   "outputs": [
    {
     "data": {
      "text/plain": [
       "no     2850\n",
       "yes     483\n",
       "Name: Churn, dtype: int64"
      ]
     },
     "execution_count": 3,
     "metadata": {},
     "output_type": "execute_result"
    }
   ],
   "source": [
    "telco['Churn'].value_counts()"
   ]
  },
  {
   "cell_type": "markdown",
   "metadata": {},
   "source": [
    "- The **`.groupby()`** method is incredibly useful when we want to investigate specific columns of our dataset. Here, we're going to explore the 'Churn' column further to see if there are differences between churners and non-churners."
   ]
  },
  {
   "cell_type": "code",
   "execution_count": 6,
   "metadata": {},
   "outputs": [
    {
     "data": {
      "text/html": [
       "<div>\n",
       "<style scoped>\n",
       "    .dataframe tbody tr th:only-of-type {\n",
       "        vertical-align: middle;\n",
       "    }\n",
       "\n",
       "    .dataframe tbody tr th {\n",
       "        vertical-align: top;\n",
       "    }\n",
       "\n",
       "    .dataframe thead th {\n",
       "        text-align: right;\n",
       "    }\n",
       "</style>\n",
       "<table border=\"1\" class=\"dataframe\">\n",
       "  <thead>\n",
       "    <tr style=\"text-align: right;\">\n",
       "      <th></th>\n",
       "      <th>Account_Length</th>\n",
       "      <th>Vmail_Message</th>\n",
       "      <th>Day_Mins</th>\n",
       "      <th>Eve_Mins</th>\n",
       "      <th>Night_Mins</th>\n",
       "      <th>Intl_Mins</th>\n",
       "      <th>CustServ_Calls</th>\n",
       "      <th>Day_Calls</th>\n",
       "      <th>Day_Charge</th>\n",
       "      <th>Eve_Calls</th>\n",
       "      <th>Eve_Charge</th>\n",
       "      <th>Night_Calls</th>\n",
       "      <th>Night_Charge</th>\n",
       "      <th>Intl_Calls</th>\n",
       "      <th>Intl_Charge</th>\n",
       "      <th>Area_Code</th>\n",
       "    </tr>\n",
       "    <tr>\n",
       "      <th>Churn</th>\n",
       "      <th></th>\n",
       "      <th></th>\n",
       "      <th></th>\n",
       "      <th></th>\n",
       "      <th></th>\n",
       "      <th></th>\n",
       "      <th></th>\n",
       "      <th></th>\n",
       "      <th></th>\n",
       "      <th></th>\n",
       "      <th></th>\n",
       "      <th></th>\n",
       "      <th></th>\n",
       "      <th></th>\n",
       "      <th></th>\n",
       "      <th></th>\n",
       "    </tr>\n",
       "  </thead>\n",
       "  <tbody>\n",
       "    <tr>\n",
       "      <th>no</th>\n",
       "      <td>39.88235</td>\n",
       "      <td>13.913125</td>\n",
       "      <td>50.181655</td>\n",
       "      <td>50.292175</td>\n",
       "      <td>51.105032</td>\n",
       "      <td>2.784489</td>\n",
       "      <td>1.163883</td>\n",
       "      <td>19.801157</td>\n",
       "      <td>8.530835</td>\n",
       "      <td>19.958414</td>\n",
       "      <td>4.274863</td>\n",
       "      <td>19.506246</td>\n",
       "      <td>2.299768</td>\n",
       "      <td>2.441984</td>\n",
       "      <td>0.751784</td>\n",
       "      <td>42.306156</td>\n",
       "    </tr>\n",
       "    <tr>\n",
       "      <th>yes</th>\n",
       "      <td>39.46782</td>\n",
       "      <td>11.860138</td>\n",
       "      <td>68.997792</td>\n",
       "      <td>51.728910</td>\n",
       "      <td>47.132825</td>\n",
       "      <td>2.793190</td>\n",
       "      <td>1.853275</td>\n",
       "      <td>21.582307</td>\n",
       "      <td>11.729710</td>\n",
       "      <td>19.724711</td>\n",
       "      <td>4.396762</td>\n",
       "      <td>19.950659</td>\n",
       "      <td>2.121081</td>\n",
       "      <td>2.551575</td>\n",
       "      <td>0.754152</td>\n",
       "      <td>42.792270</td>\n",
       "    </tr>\n",
       "  </tbody>\n",
       "</table>\n",
       "</div>"
      ],
      "text/plain": [
       "       Account_Length  Vmail_Message   Day_Mins   Eve_Mins  Night_Mins  \\\n",
       "Churn                                                                    \n",
       "no           39.88235      13.913125  50.181655  50.292175   51.105032   \n",
       "yes          39.46782      11.860138  68.997792  51.728910   47.132825   \n",
       "\n",
       "       Intl_Mins  CustServ_Calls  Day_Calls  Day_Charge  Eve_Calls  \\\n",
       "Churn                                                                \n",
       "no      2.784489        1.163883  19.801157    8.530835  19.958414   \n",
       "yes     2.793190        1.853275  21.582307   11.729710  19.724711   \n",
       "\n",
       "       Eve_Charge  Night_Calls  Night_Charge  Intl_Calls  Intl_Charge  \\\n",
       "Churn                                                                   \n",
       "no       4.274863    19.506246      2.299768    2.441984     0.751784   \n",
       "yes      4.396762    19.950659      2.121081    2.551575     0.754152   \n",
       "\n",
       "       Area_Code  \n",
       "Churn             \n",
       "no     42.306156  \n",
       "yes    42.792270  "
      ]
     },
     "execution_count": 6,
     "metadata": {},
     "output_type": "execute_result"
    }
   ],
   "source": [
    "telco.groupby(['Churn']).std()"
   ]
  },
  {
   "cell_type": "markdown",
   "metadata": {},
   "source": [
    "- Perhaps unsurprisingly, churners seem to make more customer service calls than non-churners.    "
   ]
  },
  {
   "cell_type": "markdown",
   "metadata": {},
   "source": [
    "### Churn by State\n",
    "- When dealing with customer data, geographic regions may play an important part in determining whether a customer will cancel their service or not. We may have noticed that there is a 'State' column in the dataset. We'll group 'State' and 'Churn' to count the number of churners and non-churners by state. For example, if we wanted to group by x and aggregate by y, we could use .groupby() as follows:\n",
    "\n",
    "```python\n",
    "df.groupby('x')['y'].value_counts()\n",
    "```\n",
    "\n",
    "- **Task** : Group telco by 'State', aggregate by 'Churn', and then use value_counts() to count the number of churners and non-churners by state."
   ]
  },
  {
   "cell_type": "code",
   "execution_count": 7,
   "metadata": {},
   "outputs": [
    {
     "name": "stdout",
     "output_type": "stream",
     "text": [
      "State  Churn\n",
      "AK     no       49\n",
      "       yes       3\n",
      "AL     no       72\n",
      "       yes       8\n",
      "AR     no       44\n",
      "       yes      11\n",
      "AZ     no       60\n",
      "       yes       4\n",
      "CA     no       25\n",
      "       yes       9\n",
      "CO     no       57\n",
      "       yes       9\n",
      "CT     no       62\n",
      "       yes      12\n",
      "DC     no       49\n",
      "       yes       5\n",
      "DE     no       52\n",
      "       yes       9\n",
      "FL     no       55\n",
      "       yes       8\n",
      "GA     no       46\n",
      "       yes       8\n",
      "HI     no       50\n",
      "       yes       3\n",
      "IA     no       41\n",
      "       yes       3\n",
      "ID     no       64\n",
      "       yes       9\n",
      "IL     no       53\n",
      "       yes       5\n",
      "                ..\n",
      "OK     no       52\n",
      "       yes       9\n",
      "OR     no       67\n",
      "       yes      11\n",
      "PA     no       37\n",
      "       yes       8\n",
      "RI     no       59\n",
      "       yes       6\n",
      "SC     no       46\n",
      "       yes      14\n",
      "SD     no       52\n",
      "       yes       8\n",
      "TN     no       48\n",
      "       yes       5\n",
      "TX     no       54\n",
      "       yes      18\n",
      "UT     no       62\n",
      "       yes      10\n",
      "VA     no       72\n",
      "       yes       5\n",
      "VT     no       65\n",
      "       yes       8\n",
      "WA     no       52\n",
      "       yes      14\n",
      "WI     no       71\n",
      "       yes       7\n",
      "WV     no       96\n",
      "       yes      10\n",
      "WY     no       68\n",
      "       yes       9\n",
      "Name: Churn, Length: 102, dtype: int64\n"
     ]
    }
   ],
   "source": [
    "# Count the number of churners and non-churners by State\n",
    "print(telco.groupby('State')['Churn'].value_counts())"
   ]
  },
  {
   "cell_type": "markdown",
   "metadata": {},
   "source": [
    "- While California is the most populous state in the U.S, there are not as many customers from California in our dataset. Arizona (AZ), for example, has 64 customers, 4 of whom ended up churning. In comparison, California has a higher number (and percentage) of customers who churned. This is useful information for a company!"
   ]
  },
  {
   "cell_type": "code",
   "execution_count": null,
   "metadata": {},
   "outputs": [],
   "source": []
  }
 ],
 "metadata": {
  "kernelspec": {
   "display_name": "Python 3",
   "language": "python",
   "name": "python3"
  },
  "language_info": {
   "codemirror_mode": {
    "name": "ipython",
    "version": 3
   },
   "file_extension": ".py",
   "mimetype": "text/x-python",
   "name": "python",
   "nbconvert_exporter": "python",
   "pygments_lexer": "ipython3",
   "version": "3.7.3"
  }
 },
 "nbformat": 4,
 "nbformat_minor": 2
}
